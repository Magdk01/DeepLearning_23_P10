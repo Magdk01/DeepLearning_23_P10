{
 "cells": [
  {
   "cell_type": "markdown",
   "metadata": {},
   "source": [
    "# Helper notebook for painn models\n",
    "### Inital imports and defs "
   ]
  },
  {
   "cell_type": "code",
   "execution_count": 1,
   "metadata": {},
   "outputs": [],
   "source": [
    "import os\n",
    "import torch\n",
    "\n",
    "from DataLoader.DataLoader import DataLoad\n",
    "from trainer import run_test\n",
    "from painn import painn\n",
    "import warnings\n",
    "warnings.filterwarnings('ignore')\n",
    "\n",
    "torch.manual_seed(6)\n",
    "device = torch.device(\"cuda\" if torch.cuda.is_available() else \"cpu\")\n",
    "\n",
    "target_dict = {\n",
    "    0: \"Dipole moment\",\n",
    "    1: \"Isotropic polarizability\",\n",
    "    2: \"Highest occupied molecular orbital energy\",\n",
    "    3: \"Lowest unoccupied molecular orbital energy\",\n",
    "    4: \"Gap between HOMO and LUMO\",\n",
    "    5: \"Electronic Spatial extent\",\n",
    "    6: \"Zero point vibrational energy\",\n",
    "    7: \"Internal energy at 0K\",\n",
    "    8: \"Internal energy at 298.15K\",\n",
    "    9: \"Enthalpy at 298.15K\",\n",
    "    10: \"Free energy at 298.15K\",\n",
    "    11: \"Heat capacity at 298.15K\",\n",
    "    12: \"Atomization energy at 0K\",\n",
    "    13: \"Atomization energy at 298.15K\",\n",
    "    14: \"Atomization enthalpy at 298.15K\",\n",
    "    15: \"Atomization free energy at 298.15K\",\n",
    "}\n",
    "\n",
    "def find_model_pth(target, shared=False):\n",
    "    model = target_dict[target]\n",
    "    share_pth = \"shared_models\" if shared else \"non_shared_models\"\n",
    "    models = os.listdir(f\"models/{share_pth}/\")\n",
    "    for model_pth in models:\n",
    "        model_str = model.lower().replace(\" \", \"_\")\n",
    "        if model_str in model_pth:\n",
    "            return f\"models/{share_pth}/{model_pth}\"\n",
    "    raise ValueError(\"Could not find model\")\n"
   ]
  },
  {
   "cell_type": "markdown",
   "metadata": {},
   "source": [
    "### Choose your model:"
   ]
  },
  {
   "cell_type": "code",
   "execution_count": 2,
   "metadata": {},
   "outputs": [],
   "source": [
    "target = 0 # In the range 0 - 15\n"
   ]
  },
  {
   "cell_type": "markdown",
   "metadata": {},
   "source": [
    "### Run test"
   ]
  },
  {
   "cell_type": "code",
   "execution_count": 3,
   "metadata": {},
   "outputs": [
    {
     "name": "stderr",
     "output_type": "stream",
     "text": [
      "100%|██████████| 1635/1635 [02:06<00:00, 12.88it/s]\n"
     ]
    },
    {
     "name": "stdout",
     "output_type": "stream",
     "text": [
      "You tested a model on Dipole moment, with shared layers. \n",
      "The result was a mean absolute error of 0.922\n",
      "\n",
      "\n"
     ]
    },
    {
     "name": "stderr",
     "output_type": "stream",
     "text": [
      "100%|██████████| 1635/1635 [02:04<00:00, 13.15it/s]\n"
     ]
    },
    {
     "name": "stdout",
     "output_type": "stream",
     "text": [
      "You tested a model on Isotropic polarizability, with shared layers. \n",
      "The result was a mean absolute error of 1.000\n",
      "\n",
      "\n"
     ]
    },
    {
     "name": "stderr",
     "output_type": "stream",
     "text": [
      "100%|██████████| 1635/1635 [02:04<00:00, 13.14it/s]\n"
     ]
    },
    {
     "name": "stdout",
     "output_type": "stream",
     "text": [
      "You tested a model on Highest occupied molecular orbital energy, with shared layers. \n",
      "The result was a mean absolute error of 365.393\n",
      "\n",
      "\n"
     ]
    },
    {
     "name": "stderr",
     "output_type": "stream",
     "text": [
      "100%|██████████| 1635/1635 [02:04<00:00, 13.09it/s]\n"
     ]
    },
    {
     "name": "stdout",
     "output_type": "stream",
     "text": [
      "You tested a model on Lowest unoccupied molecular orbital energy, with shared layers. \n",
      "The result was a mean absolute error of 355.646\n",
      "\n",
      "\n"
     ]
    },
    {
     "name": "stderr",
     "output_type": "stream",
     "text": [
      "100%|██████████| 1635/1635 [02:01<00:00, 13.47it/s]\n"
     ]
    },
    {
     "name": "stdout",
     "output_type": "stream",
     "text": [
      "You tested a model on Gap between HOMO and LUMO, with shared layers. \n",
      "The result was a mean absolute error of 588.019\n",
      "\n",
      "\n"
     ]
    },
    {
     "name": "stderr",
     "output_type": "stream",
     "text": [
      "100%|██████████| 1635/1635 [02:01<00:00, 13.47it/s]\n"
     ]
    },
    {
     "name": "stdout",
     "output_type": "stream",
     "text": [
      "You tested a model on Electronic Spatial extent, with shared layers. \n",
      "The result was a mean absolute error of 106.668\n",
      "\n",
      "\n"
     ]
    },
    {
     "name": "stderr",
     "output_type": "stream",
     "text": [
      "100%|██████████| 1635/1635 [02:03<00:00, 13.21it/s]\n"
     ]
    },
    {
     "name": "stdout",
     "output_type": "stream",
     "text": [
      "You tested a model on Zero point vibrational energy, with shared layers. \n",
      "The result was a mean absolute error of 77.737\n",
      "\n",
      "\n"
     ]
    },
    {
     "name": "stderr",
     "output_type": "stream",
     "text": [
      "100%|██████████| 1635/1635 [02:01<00:00, 13.41it/s]\n"
     ]
    },
    {
     "name": "stdout",
     "output_type": "stream",
     "text": [
      "You tested a model on Internal energy at 0K, with shared layers. \n",
      "The result was a mean absolute error of 1574031.292\n",
      "\n",
      "\n"
     ]
    },
    {
     "name": "stderr",
     "output_type": "stream",
     "text": [
      "100%|██████████| 1635/1635 [02:02<00:00, 13.32it/s]\n"
     ]
    },
    {
     "name": "stdout",
     "output_type": "stream",
     "text": [
      "You tested a model on Internal energy at 298.15K, with shared layers. \n",
      "The result was a mean absolute error of 134569.952\n",
      "\n",
      "\n"
     ]
    },
    {
     "name": "stderr",
     "output_type": "stream",
     "text": [
      "100%|██████████| 1635/1635 [02:03<00:00, 13.27it/s]\n"
     ]
    },
    {
     "name": "stdout",
     "output_type": "stream",
     "text": [
      "You tested a model on Enthalpy at 298.15K, with shared layers. \n",
      "The result was a mean absolute error of 11097514.685\n",
      "\n",
      "\n"
     ]
    },
    {
     "name": "stderr",
     "output_type": "stream",
     "text": [
      "100%|██████████| 1635/1635 [02:04<00:00, 13.15it/s]\n"
     ]
    },
    {
     "name": "stdout",
     "output_type": "stream",
     "text": [
      "You tested a model on Free energy at 298.15K, with shared layers. \n",
      "The result was a mean absolute error of 11104913.283\n",
      "\n",
      "\n"
     ]
    },
    {
     "name": "stderr",
     "output_type": "stream",
     "text": [
      "100%|██████████| 1635/1635 [02:06<00:00, 12.89it/s]\n"
     ]
    },
    {
     "name": "stdout",
     "output_type": "stream",
     "text": [
      "You tested a model on Heat capacity at 298.15K, with shared layers. \n",
      "The result was a mean absolute error of 2.248\n",
      "\n",
      "\n"
     ]
    },
    {
     "name": "stderr",
     "output_type": "stream",
     "text": [
      "100%|██████████| 1635/1635 [02:05<00:00, 13.02it/s]\n"
     ]
    },
    {
     "name": "stdout",
     "output_type": "stream",
     "text": [
      "You tested a model on Atomization energy at 0K, with shared layers. \n",
      "The result was a mean absolute error of 792.051\n",
      "\n",
      "\n"
     ]
    },
    {
     "name": "stderr",
     "output_type": "stream",
     "text": [
      "100%|██████████| 1635/1635 [02:03<00:00, 13.26it/s]\n"
     ]
    },
    {
     "name": "stdout",
     "output_type": "stream",
     "text": [
      "You tested a model on Atomization energy at 298.15K, with shared layers. \n",
      "The result was a mean absolute error of 1429.135\n",
      "\n",
      "\n"
     ]
    },
    {
     "name": "stderr",
     "output_type": "stream",
     "text": [
      "100%|██████████| 1635/1635 [02:07<00:00, 12.87it/s]\n"
     ]
    },
    {
     "name": "stdout",
     "output_type": "stream",
     "text": [
      "You tested a model on Atomization enthalpy at 298.15K, with shared layers. \n",
      "The result was a mean absolute error of 3150.497\n",
      "\n",
      "\n"
     ]
    },
    {
     "name": "stderr",
     "output_type": "stream",
     "text": [
      "100%|██████████| 1635/1635 [02:07<00:00, 12.79it/s]"
     ]
    },
    {
     "name": "stdout",
     "output_type": "stream",
     "text": [
      "You tested a model on Atomization free energy at 298.15K, with shared layers. \n",
      "The result was a mean absolute error of 1671.468\n",
      "\n",
      "\n"
     ]
    },
    {
     "name": "stderr",
     "output_type": "stream",
     "text": [
      "\n"
     ]
    }
   ],
   "source": [
    "shared = True # Whether the layers are shared between iterations\n",
    "for target in target_dict.keys():\n",
    "    try:  \n",
    "        model_path = find_model_pth(target=target, shared=shared)\n",
    "        loaded_model = torch.load(model_path, map_location=torch.device(device))\n",
    "        state_dict = loaded_model.state_dict()\n",
    "\n",
    "\n",
    "        model = painn(shared=shared, device=device)  \n",
    "        model.load_state_dict(state_dict)\n",
    "        model.to(device)\n",
    "\n",
    "        loss = torch.nn.L1Loss()\n",
    "        _, test_loader, _ = DataLoad(batch_size=16, target_index=target, device=device)\n",
    "\n",
    "        mae_loss = run_test(test_loader=test_loader, test_model=model, test_loss_fn=loss, device=device)\n",
    "        \n",
    "        print(f\"You tested a model on {target_dict[target]}, {'with' if shared else 'without'} shared layers. \\nThe result was a mean absolute error of {mae_loss:.3f}\\n\\n\")\n",
    "    except KeyError:\n",
    "        print(f\"You attempt to test a model on {target_dict[target]}, {'with' if shared else 'without'} shared layers. However no such model could be found.\")\n"
   ]
  },
  {
   "cell_type": "code",
   "execution_count": 5,
   "metadata": {},
   "outputs": [
    {
     "name": "stderr",
     "output_type": "stream",
     "text": [
      "100%|██████████| 1635/1635 [02:09<00:00, 12.66it/s]\n"
     ]
    },
    {
     "name": "stdout",
     "output_type": "stream",
     "text": [
      "You tested a model on Dipole moment, without shared layers. \n",
      "The result was a mean absolute error of 0.967\n",
      "\n",
      "\n"
     ]
    },
    {
     "name": "stderr",
     "output_type": "stream",
     "text": [
      "100%|██████████| 1635/1635 [02:04<00:00, 13.12it/s]\n"
     ]
    },
    {
     "name": "stdout",
     "output_type": "stream",
     "text": [
      "You tested a model on Isotropic polarizability, without shared layers. \n",
      "The result was a mean absolute error of 0.935\n",
      "\n",
      "\n",
      "You attempt to test a model on Highest occupied molecular orbital energy, without shared layers. However no such model could be found.\n",
      "You attempt to test a model on Lowest unoccupied molecular orbital energy, without shared layers. However no such model could be found.\n",
      "You attempt to test a model on Gap between HOMO and LUMO, without shared layers. However no such model could be found.\n",
      "You attempt to test a model on Electronic Spatial extent, without shared layers. However no such model could be found.\n"
     ]
    },
    {
     "name": "stderr",
     "output_type": "stream",
     "text": [
      "100%|██████████| 1635/1635 [02:07<00:00, 12.84it/s]\n"
     ]
    },
    {
     "name": "stdout",
     "output_type": "stream",
     "text": [
      "You tested a model on Zero point vibrational energy, without shared layers. \n",
      "The result was a mean absolute error of 37.605\n",
      "\n",
      "\n",
      "You attempt to test a model on Internal energy at 0K, without shared layers. However no such model could be found.\n",
      "You attempt to test a model on Internal energy at 298.15K, without shared layers. However no such model could be found.\n",
      "You attempt to test a model on Enthalpy at 298.15K, without shared layers. However no such model could be found.\n",
      "You attempt to test a model on Free energy at 298.15K, without shared layers. However no such model could be found.\n"
     ]
    },
    {
     "name": "stderr",
     "output_type": "stream",
     "text": [
      "100%|██████████| 1635/1635 [02:05<00:00, 13.04it/s]"
     ]
    },
    {
     "name": "stdout",
     "output_type": "stream",
     "text": [
      "You tested a model on Heat capacity at 298.15K, without shared layers. \n",
      "The result was a mean absolute error of 1.441\n",
      "\n",
      "\n",
      "You attempt to test a model on Atomization energy at 0K, without shared layers. However no such model could be found.\n",
      "You attempt to test a model on Atomization energy at 298.15K, without shared layers. However no such model could be found.\n",
      "You attempt to test a model on Atomization enthalpy at 298.15K, without shared layers. However no such model could be found.\n",
      "You attempt to test a model on Atomization free energy at 298.15K, without shared layers. However no such model could be found.\n"
     ]
    },
    {
     "name": "stderr",
     "output_type": "stream",
     "text": [
      "\n"
     ]
    }
   ],
   "source": [
    "import torch\n",
    "from painn import painn\n",
    "shared = False\n",
    "for target in target_dict.keys():\n",
    "    try:  \n",
    "        model_path = find_model_pth(target=target, shared=shared)\n",
    "        loaded_model = torch.load(model_path, map_location=torch.device(device))\n",
    "        state_dict = loaded_model.state_dict()\n",
    "\n",
    "\n",
    "        model = painn(shared=shared, device=device)  \n",
    "        model.load_state_dict(state_dict)\n",
    "        model.to(device)\n",
    "\n",
    "        loss = torch.nn.L1Loss()\n",
    "        _, test_loader, _ = DataLoad(batch_size=16, target_index=target, device=device)\n",
    "\n",
    "        mae_loss = run_test(test_loader=test_loader, test_model=model, test_loss_fn=loss, device=device)\n",
    "        \n",
    "        print(f\"You tested a model on {target_dict[target]}, {'with' if shared else 'without'} shared layers. \\nThe result was a mean absolute error of {mae_loss:.3f}\\n\\n\")\n",
    "    except ValueError:\n",
    "        print(f\"You attempt to test a model on {target_dict[target]}, {'with' if shared else 'without'} shared layers. However no such model could be found.\")"
   ]
  },
  {
   "cell_type": "code",
   "execution_count": null,
   "metadata": {},
   "outputs": [],
   "source": []
  }
 ],
 "metadata": {
  "kernelspec": {
   "display_name": "Python 3",
   "language": "python",
   "name": "python3"
  },
  "language_info": {
   "codemirror_mode": {
    "name": "ipython",
    "version": 3
   },
   "file_extension": ".py",
   "mimetype": "text/x-python",
   "name": "python",
   "nbconvert_exporter": "python",
   "pygments_lexer": "ipython3",
   "version": "3.11.5"
  }
 },
 "nbformat": 4,
 "nbformat_minor": 2
}
