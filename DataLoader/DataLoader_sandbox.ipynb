{
 "cells": [
  {
   "cell_type": "code",
   "execution_count": 43,
   "metadata": {},
   "outputs": [],
   "source": [
    "import torch\n",
    "from torch_geometric.data import Data"
   ]
  },
  {
   "cell_type": "code",
   "execution_count": 44,
   "metadata": {},
   "outputs": [
    {
     "name": "stdout",
     "output_type": "stream",
     "text": [
      "tensor([[    0.0000,    13.2100,   -10.5499,     3.1865,    13.7363,    35.3641,\n",
      "             1.2177, -1101.4878, -1101.4098, -1101.3840, -1102.0229,     6.4690,\n",
      "           -17.1722,   -17.2868,   -17.3897,   -16.1519,   157.7118,   157.7100,\n",
      "           157.7070]])\n"
     ]
    }
   ],
   "source": [
    "from torch_geometric.datasets import QM9\n",
    "\n",
    "# Initialize the QM9 dataset\n",
    "data = QM9(root='./QM9')\n",
    "\n",
    "data = data[0]\n",
    "print(data.y)\n"
   ]
  },
  {
   "cell_type": "code",
   "execution_count": 103,
   "metadata": {},
   "outputs": [],
   "source": [
    "# Import libraries\n",
    "import torch\n",
    "from torch.utils.data import Dataset\n",
    "from torch_geometric.datasets import QM9\n",
    "from torch.utils.data import DataLoader\n",
    "\n",
    "# Dataset class\n",
    "class QM9Dataset(Dataset):\n",
    "    # Initialize the dataset object\n",
    "    def __init__(self, data, y_index=0):\n",
    "        self.dataset = data\n",
    "        self.y_index = y_index\n",
    "\n",
    "    # Return the length of the dataset\n",
    "    def __len__(self):\n",
    "        return len(self.dataset)\n",
    "    \n",
    "    # Return the item at the given index\n",
    "    def __getitem__(self, index):\n",
    "        batch = self.dataset[index]\n",
    "\n",
    "        # Get the atomic numbers and coordinates\n",
    "        atomic_numbers = batch.z\n",
    "        coords = batch.pos\n",
    "\n",
    "        # q = atomic_numbers copied 3 times \n",
    "        q = [num.item() for num in atomic_numbers for _ in range(3)]\n",
    "\n",
    "        # R_ij = 3x(len(atomic_numbers) * 3))\n",
    "        r_ij = torch.zeros((3, len(atomic_numbers) * 3))\n",
    "\n",
    "        # Get the distance between atoms\n",
    "        for i in range(r_ij.shape[0]):\n",
    "            for j in range(r_ij.shape[1]):\n",
    "                r_ij[i][j] = coords[j//3][i] - coords[j%3][i]\n",
    "\n",
    "        # Variable to predict\n",
    "        y = batch.y[0][self.y_index]\n",
    "\n",
    "        # Combine the atomic numbers, coordinates and variable to predict\n",
    "        return q, r_ij, y\n",
    "\n",
    "def my_collate_fn(data):\n",
    "        return data\n",
    "\n",
    "# Function to create the dataset\n",
    "def DataLoad(batch_size=1, shuffle=False, split=[0.8, 0.1, 0.1], y_index=0):\n",
    "    # Create the dataset\n",
    "    data = QM9(root='./QM9')\n",
    "\n",
    "    # Create the dataset object\n",
    "    dataset = QM9Dataset(data, y_index=0)\n",
    "\n",
    "    # Train-test split\n",
    "    train_size = int(split[0] * len(dataset))\n",
    "    test_size = int(split[1] * len(dataset))\n",
    "    val_size = len(dataset) - train_size - test_size\n",
    "\n",
    "    train_dataset, test_dataset, val_dataset = torch.utils.data.random_split(dataset, [train_size, test_size, val_size])\n",
    "\n",
    "    # Create the train and test dataloaders\n",
    "    train_dataloader = DataLoader(train_dataset, batch_size=batch_size, shuffle=shuffle, collate_fn=my_collate_fn)\n",
    "    test_dataloader = DataLoader(test_dataset, batch_size=batch_size, shuffle=shuffle, collate_fn=my_collate_fn)\n",
    "    val_dataloader = DataLoader(val_dataset, batch_size=batch_size, shuffle=shuffle, collate_fn=my_collate_fn)\n",
    "\n",
    "    return train_dataloader, test_dataloader, val_dataloader"
   ]
  },
  {
   "cell_type": "code",
   "execution_count": 107,
   "metadata": {},
   "outputs": [
    {
     "name": "stdout",
     "output_type": "stream",
     "text": [
      "torch.Size([3, 36])\n"
     ]
    }
   ],
   "source": [
    "max_size = 29 # Found previously\n",
    "\n",
    "# Create the dataloaders\n",
    "train, test, val = DataLoad(batch_size=1, shuffle=False, split=[0.8, 0.1, 0.1], y_index=0)\n",
    "\n",
    "for i, batch in enumerate(train):\n",
    "    print(batch[0][1].shape)\n",
    "    break"
   ]
  },
  {
   "cell_type": "code",
   "execution_count": 13,
   "metadata": {},
   "outputs": [],
   "source": [
    "# Simple GNN model\n",
    "import torch\n",
    "import torch.nn as nn\n",
    "import torch.nn.functional as F\n",
    "\n",
    "class GNN(nn.Module):\n",
    "    # Initialize the model\n",
    "    def __init__(self, input_dim, hidden_dim, output_dim):\n",
    "        super(GNN, self).__init__()\n",
    "\n",
    "        # Initialize the linear layers\n",
    "        self.linear1 = nn.Linear(input_dim, hidden_dim)\n",
    "        self.linear2 = nn.Linear(hidden_dim, output_dim)\n",
    "\n",
    "    # Perform the forward pass\n",
    "    def forward(self, x):\n",
    "        '''x has shape (29, 4)'''\n",
    "        # Apply the first linear layer\n",
    "        x = self.linear1(x)\n",
    "\n",
    "        # Apply ReLU non-linearity\n",
    "        x = F.relu(x)\n",
    "\n",
    "        # Apply the second linear layer\n",
    "        x = self.linear2(x)\n",
    "\n",
    "        return x\n"
   ]
  },
  {
   "cell_type": "code",
   "execution_count": 15,
   "metadata": {},
   "outputs": [],
   "source": [
    "# Define the input dimension, hidden dimension and output dimension\n",
    "input_dim = 4\n",
    "hidden_dim = 32\n",
    "output_dim = 1\n",
    "\n",
    "# Initialize the model\n",
    "model = GNN(input_dim, hidden_dim, output_dim)\n",
    "\n",
    "# Define the loss function (norm)\n",
    "loss_fn = nn.MSELoss()\n",
    "# Define the optimizer\n",
    "optimizer = torch.optim.Adam(model.parameters(), lr=0.01)\n",
    "\n",
    "# Number of epochs\n",
    "n_epochs = 2"
   ]
  },
  {
   "cell_type": "code",
   "execution_count": 16,
   "metadata": {},
   "outputs": [
    {
     "ename": "RuntimeError",
     "evalue": "The expanded size of the tensor (29) must match the existing size (17) at non-singleton dimension 0.  Target sizes: [29].  Tensor sizes: [17]",
     "output_type": "error",
     "traceback": [
      "\u001b[1;31m---------------------------------------------------------------------------\u001b[0m",
      "\u001b[1;31mRuntimeError\u001b[0m                              Traceback (most recent call last)",
      "\u001b[1;32mc:\\Users\\Lachl\\Documents\\GitHub\\DeepLearning_23_P10\\DataLoader\\DataLoader_sandbox.ipynb Cell 8\u001b[0m line \u001b[0;36m2\n\u001b[0;32m     <a href='vscode-notebook-cell:/c%3A/Users/Lachl/Documents/GitHub/DeepLearning_23_P10/DataLoader/DataLoader_sandbox.ipynb#X12sZmlsZQ%3D%3D?line=15'>16</a>\u001b[0m \u001b[39m# Standardize the input features so they have length 29\u001b[39;00m\n\u001b[0;32m     <a href='vscode-notebook-cell:/c%3A/Users/Lachl/Documents/GitHub/DeepLearning_23_P10/DataLoader/DataLoader_sandbox.ipynb#X12sZmlsZQ%3D%3D?line=16'>17</a>\u001b[0m \u001b[39m# atomic_numbers = F.pad(atomic_numbers, (0, max_size - atomic_numbers.shape[0]))\u001b[39;00m\n\u001b[0;32m     <a href='vscode-notebook-cell:/c%3A/Users/Lachl/Documents/GitHub/DeepLearning_23_P10/DataLoader/DataLoader_sandbox.ipynb#X12sZmlsZQ%3D%3D?line=17'>18</a>\u001b[0m \n\u001b[1;32m   (...)\u001b[0m\n\u001b[0;32m     <a href='vscode-notebook-cell:/c%3A/Users/Lachl/Documents/GitHub/DeepLearning_23_P10/DataLoader/DataLoader_sandbox.ipynb#X12sZmlsZQ%3D%3D?line=21'>22</a>\u001b[0m \n\u001b[0;32m     <a href='vscode-notebook-cell:/c%3A/Users/Lachl/Documents/GitHub/DeepLearning_23_P10/DataLoader/DataLoader_sandbox.ipynb#X12sZmlsZQ%3D%3D?line=22'>23</a>\u001b[0m \u001b[39m# Concatenate the atomic numbers and coordinates into one tensor (29, 4)\u001b[39;00m\n\u001b[0;32m     <a href='vscode-notebook-cell:/c%3A/Users/Lachl/Documents/GitHub/DeepLearning_23_P10/DataLoader/DataLoader_sandbox.ipynb#X12sZmlsZQ%3D%3D?line=23'>24</a>\u001b[0m empty \u001b[39m=\u001b[39m torch\u001b[39m.\u001b[39mzeros(max_size, \u001b[39m4\u001b[39m)\n\u001b[1;32m---> <a href='vscode-notebook-cell:/c%3A/Users/Lachl/Documents/GitHub/DeepLearning_23_P10/DataLoader/DataLoader_sandbox.ipynb#X12sZmlsZQ%3D%3D?line=24'>25</a>\u001b[0m empty[:, \u001b[39m0\u001b[39m] \u001b[39m=\u001b[39m atomic_numbers\n\u001b[0;32m     <a href='vscode-notebook-cell:/c%3A/Users/Lachl/Documents/GitHub/DeepLearning_23_P10/DataLoader/DataLoader_sandbox.ipynb#X12sZmlsZQ%3D%3D?line=25'>26</a>\u001b[0m empty[:, \u001b[39m1\u001b[39m:] \u001b[39m=\u001b[39m coords\n\u001b[0;32m     <a href='vscode-notebook-cell:/c%3A/Users/Lachl/Documents/GitHub/DeepLearning_23_P10/DataLoader/DataLoader_sandbox.ipynb#X12sZmlsZQ%3D%3D?line=27'>28</a>\u001b[0m \u001b[39m# Zero out the gradients\u001b[39;00m\n",
      "\u001b[1;31mRuntimeError\u001b[0m: The expanded size of the tensor (29) must match the existing size (17) at non-singleton dimension 0.  Target sizes: [29].  Tensor sizes: [17]"
     ]
    }
   ],
   "source": [
    "losses = []\n",
    "y_preds = []\n",
    "\n",
    "# Loop over the epochs\n",
    "for epoch in range(n_epochs):\n",
    "    # Training mode\n",
    "    model.train()\n",
    "\n",
    "    # Loop over each batch\n",
    "    for batch in train:\n",
    "        # Extract the atomic numbers, coordinates and y values\n",
    "        atomic_numbers = batch[0][0]\n",
    "        coords = batch[0][1]\n",
    "        y = batch[0][2][0][0]\n",
    "\n",
    "        # Standardize the input features so they have length 29\n",
    "        # atomic_numbers = F.pad(atomic_numbers, (0, max_size - atomic_numbers.shape[0]))\n",
    "\n",
    "        # Standardize coords so they have shape (29, 3)\n",
    "        # coords = F.pad(coords, (0, 0, 0, max_size - coords.shape[0]))\n",
    "        #print(coords)\n",
    "\n",
    "        # Concatenate the atomic numbers and coordinates into one tensor (29, 4)\n",
    "        empty = torch.zeros(max_size, 4)\n",
    "        empty[:, 0] = atomic_numbers\n",
    "        empty[:, 1:] = coords\n",
    "\n",
    "        # Zero out the gradients\n",
    "        optimizer.zero_grad()\n",
    "\n",
    "        # Perform forward pass\n",
    "        y_pred = model(empty)\n",
    "        y_preds.append(y_pred)\n",
    "\n",
    "        # Compute the loss\n",
    "        loss = loss_fn(y_pred, y)\n",
    "        losses.append(loss)\n",
    "\n",
    "        # Perform backward pass\n",
    "        loss.backward()"
   ]
  },
  {
   "cell_type": "code",
   "execution_count": 223,
   "metadata": {},
   "outputs": [
    {
     "name": "stdout",
     "output_type": "stream",
     "text": [
      "[207.0314   329.45303  260.15     ...  29.964243  75.541916  17.25205 ]\n"
     ]
    },
    {
     "data": {
      "image/png": "[encoded data removed]",
      "text/plain": [
       "<Figure size 640x480 with 1 Axes>"
      ]
     },
     "metadata": {},
     "output_type": "display_data"
    }
   ],
   "source": [
    "# plot the losses\n",
    "import matplotlib.pyplot as plt\n",
    "import numpy as np\n",
    "\n",
    "# Detach the losses\n",
    "nplosses = [x.detach().numpy() for x in losses]\n",
    "\n",
    "# Mean loss per batch\n",
    "nplosses = np.array(nplosses)\n",
    "nplosses = nplosses.reshape(-1, 1)\n",
    "nplosses = np.mean(nplosses, axis=1)\n",
    "print(nplosses)\n",
    "\n",
    "plt.plot(nplosses)\n",
    "plt.show()"
   ]
  },
  {
   "cell_type": "code",
   "execution_count": 206,
   "metadata": {},
   "outputs": [
    {
     "name": "stdout",
     "output_type": "stream",
     "text": [
      "[1.6552526 5.1056666 0.8112104 ... 7.825232  0.8025882 9.012954 ]\n"
     ]
    }
   ],
   "source": [
    "print(\n",
    "    losses\n",
    ")"
   ]
  }
 ],
 "metadata": {
  "kernelspec": {
   "display_name": ".venv",
   "language": "python",
   "name": "python3"
  },
  "language_info": {
   "codemirror_mode": {
    "name": "ipython",
    "version": 3
   },
   "file_extension": ".py",
   "mimetype": "text/x-python",
   "name": "python",
   "nbconvert_exporter": "python",
   "pygments_lexer": "ipython3",
   "version": "3.10.10"
  }
 },
 "nbformat": 4,
 "nbformat_minor": 2
}
