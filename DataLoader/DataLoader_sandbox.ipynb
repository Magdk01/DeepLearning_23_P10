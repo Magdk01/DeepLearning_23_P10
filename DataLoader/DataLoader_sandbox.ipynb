{
 "cells": [
  {
   "cell_type": "code",
   "execution_count": 2,
   "metadata": {},
   "outputs": [],
   "source": [
    "import torch\n",
    "from torch_geometric.data import Data"
   ]
  },
  {
   "cell_type": "code",
   "execution_count": 3,
   "metadata": {},
   "outputs": [],
   "source": [
    "from torch_geometric.datasets import QM9\n",
    "\n",
    "# Initialize the QM9 dataset\n",
    "data = QM9(root='./QM9')\n"
   ]
  },
  {
   "cell_type": "code",
   "execution_count": 9,
   "metadata": {},
   "outputs": [],
   "source": [
    "# Import libraries\n",
    "import os\n",
    "from torch.utils.data import Dataset\n",
    "import warnings\n",
    "import trimesh\n",
    "import glob\n",
    "import numpy as np\n",
    "import torch\n",
    "from torch_geometric.datasets import QM9\n",
    "from torch.utils.data import DataLoader\n",
    "warnings.filterwarnings(\"ignore\")\n",
    "\n",
    "# Dataset class\n",
    "class QM9Dataset(Dataset):\n",
    "    # Initialize the dataset object\n",
    "    def __init__(self, data):\n",
    "        self.dataset = data\n",
    "\n",
    "    # Return the length of the dataset\n",
    "    def __len__(self):\n",
    "        return len(self.dataset)\n",
    "    \n",
    "    # Return the item at the given index\n",
    "    def __getitem__(self, index):\n",
    "        batch = self.dataset[index]\n",
    "\n",
    "        # Get the atomic numbers and coordinates\n",
    "        atomic_numbers = batch.z\n",
    "        coords = batch.pos\n",
    "\n",
    "        # Variable to predict\n",
    "        #y = batch.x\n",
    "\n",
    "        # Combine the atomic numbers, coordinates and variable to predict\n",
    "    \n",
    "        return atomic_numbers, coords, #y\n",
    "\n",
    "def my_collate_fn(data):\n",
    "        return data\n",
    "\n",
    "# Function to create the dataset\n",
    "def DataLoad(batch_size=1, shuffle=False):\n",
    "    # Create the dataset\n",
    "    data = QM9(root='./QM9')\n",
    "\n",
    "    # Create the dataset object\n",
    "    dataset = QM9Dataset(data)\n",
    "\n",
    "    # Train-test split\n",
    "    train_size = int(0.8 * len(dataset))\n",
    "    test_size = len(dataset) - train_size\n",
    "\n",
    "    train_dataset, test_dataset = torch.utils.data.random_split(dataset, [train_size, test_size])\n",
    "\n",
    "    # Create the train and test dataloaders\n",
    "    train_dataloader = DataLoader(train_dataset, batch_size=batch_size, shuffle=shuffle, collate_fn=my_collate_fn)\n",
    "    test_dataloader = DataLoader(test_dataset, batch_size=batch_size, shuffle=shuffle, collate_fn=my_collate_fn)\n",
    "\n",
    "    return train_dataloader, test_dataloader"
   ]
  },
  {
   "cell_type": "code",
   "execution_count": 5,
   "metadata": {},
   "outputs": [],
   "source": [
    "from DataLoader import DataLoad"
   ]
  },
  {
   "cell_type": "code",
   "execution_count": 6,
   "metadata": {},
   "outputs": [],
   "source": [
    "train, test = DataLoad(batch_size=32, shuffle=False)"
   ]
  },
  {
   "cell_type": "code",
   "execution_count": 7,
   "metadata": {},
   "outputs": [
    {
     "name": "stdout",
     "output_type": "stream",
     "text": [
      "tensor([8, 6, 6, 6, 6, 6, 7, 6, 8, 1, 1, 1, 1, 1])\n"
     ]
    }
   ],
   "source": [
    "for i, batch in enumerate(train):\n",
    "    print(batch[31][0])\n",
    "    break"
   ]
  },
  {
   "cell_type": "code",
   "execution_count": 11,
   "metadata": {},
   "outputs": [
    {
     "name": "stdout",
     "output_type": "stream",
     "text": [
      "(tensor([6, 6, 6, 6, 6, 6, 6, 6, 6, 1, 1, 1, 1, 1, 1, 1, 1, 1, 1, 1, 1]), tensor([[ 1.9400e-02,  1.4782e+00,  5.5800e-02],\n",
      "        [-4.4600e-02, -1.1300e-02, -1.2600e-02],\n",
      "        [-5.6300e-02, -8.1520e-01, -1.0846e+00],\n",
      "        [-1.1100e-02, -2.2643e+00, -5.8720e-01],\n",
      "        [-8.6290e-01, -2.0987e+00,  6.9550e-01],\n",
      "        [ 5.0000e-04, -9.2940e-01,  1.2241e+00],\n",
      "        [ 1.4286e+00, -1.5386e+00,  1.2030e+00],\n",
      "        [ 1.6336e+00, -3.0292e+00,  1.3645e+00],\n",
      "        [ 1.4211e+00, -2.4366e+00, -1.0300e-02],\n",
      "        [ 9.3660e-01,  1.8172e+00,  5.5590e-01],\n",
      "        [-4.2000e-03,  1.9274e+00, -9.4150e-01],\n",
      "        [-8.1730e-01,  1.8907e+00,  6.3440e-01],\n",
      "        [-7.9000e-03, -5.1490e-01, -2.1245e+00],\n",
      "        [-3.2750e-01, -3.0283e+00, -1.2987e+00],\n",
      "        [-1.8808e+00, -1.7796e+00,  4.6510e-01],\n",
      "        [-9.0670e-01, -2.9751e+00,  1.3445e+00],\n",
      "        [-3.0130e-01, -4.6990e-01,  2.1674e+00],\n",
      "        [ 2.2616e+00, -8.7460e-01,  1.4080e+00],\n",
      "        [ 2.6488e+00, -3.3419e+00,  1.5919e+00],\n",
      "        [ 8.8350e-01, -3.6551e+00,  1.8333e+00],\n",
      "        [ 2.2471e+00, -2.4381e+00, -7.1330e-01]]), tensor([[0., 1., 0., 0., 0., 6., 0., 0., 0., 0., 3.],\n",
      "        [0., 1., 0., 0., 0., 6., 0., 0., 0., 0., 0.],\n",
      "        [0., 1., 0., 0., 0., 6., 0., 0., 0., 0., 1.],\n",
      "        [0., 1., 0., 0., 0., 6., 0., 0., 0., 0., 1.],\n",
      "        [0., 1., 0., 0., 0., 6., 0., 0., 0., 0., 2.],\n",
      "        [0., 1., 0., 0., 0., 6., 0., 0., 0., 0., 1.],\n",
      "        [0., 1., 0., 0., 0., 6., 0., 0., 0., 0., 1.],\n",
      "        [0., 1., 0., 0., 0., 6., 0., 0., 0., 0., 2.],\n",
      "        [0., 1., 0., 0., 0., 6., 0., 0., 0., 0., 1.],\n",
      "        [1., 0., 0., 0., 0., 1., 0., 0., 0., 0., 0.],\n",
      "        [1., 0., 0., 0., 0., 1., 0., 0., 0., 0., 0.],\n",
      "        [1., 0., 0., 0., 0., 1., 0., 0., 0., 0., 0.],\n",
      "        [1., 0., 0., 0., 0., 1., 0., 0., 0., 0., 0.],\n",
      "        [1., 0., 0., 0., 0., 1., 0., 0., 0., 0., 0.],\n",
      "        [1., 0., 0., 0., 0., 1., 0., 0., 0., 0., 0.],\n",
      "        [1., 0., 0., 0., 0., 1., 0., 0., 0., 0., 0.],\n",
      "        [1., 0., 0., 0., 0., 1., 0., 0., 0., 0., 0.],\n",
      "        [1., 0., 0., 0., 0., 1., 0., 0., 0., 0., 0.],\n",
      "        [1., 0., 0., 0., 0., 1., 0., 0., 0., 0., 0.],\n",
      "        [1., 0., 0., 0., 0., 1., 0., 0., 0., 0., 0.],\n",
      "        [1., 0., 0., 0., 0., 1., 0., 0., 0., 0., 0.]]))\n"
     ]
    }
   ],
   "source": [
    "# print the first batch\n",
    "print(train.dataset[0])"
   ]
  }
 ],
 "metadata": {
  "kernelspec": {
   "display_name": ".venv",
   "language": "python",
   "name": "python3"
  },
  "language_info": {
   "codemirror_mode": {
    "name": "ipython",
    "version": 3
   },
   "file_extension": ".py",
   "mimetype": "text/x-python",
   "name": "python",
   "nbconvert_exporter": "python",
   "pygments_lexer": "ipython3",
   "version": "3.10.10"
  }
 },
 "nbformat": 4,
 "nbformat_minor": 2
}
